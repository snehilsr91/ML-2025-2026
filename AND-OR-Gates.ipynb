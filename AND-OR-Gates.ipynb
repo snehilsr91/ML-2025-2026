{
  "nbformat": 4,
  "nbformat_minor": 0,
  "metadata": {
    "colab": {
      "provenance": []
    },
    "kernelspec": {
      "name": "python3",
      "display_name": "Python 3"
    },
    "language_info": {
      "name": "python"
    }
  },
  "cells": [
    {
      "cell_type": "code",
      "execution_count": 1,
      "metadata": {
        "id": "Ea7c_A7oByPk"
      },
      "outputs": [],
      "source": [
        "from sklearn.linear_model import Perceptron\n",
        "import numpy as np\n",
        "\n",
        "# Inputs\n",
        "X = np.array([\n",
        "    [0, 0],\n",
        "    [0, 1],\n",
        "    [1, 0],\n",
        "    [1, 1]\n",
        "])"
      ]
    },
    {
      "cell_type": "code",
      "source": [
        "# Output for AND gate\n",
        "y_and = np.array([0, 0, 0, 1])\n",
        "\n",
        "# Model\n",
        "and_model = Perceptron()\n",
        "and_model.fit(X, y_and)\n",
        "\n",
        "# Prediction\n",
        "print(\"AND Gate Predictions:\")\n",
        "print(and_model.predict(X))\n"
      ],
      "metadata": {
        "colab": {
          "base_uri": "https://localhost:8080/"
        },
        "id": "7xbDDnKeDAn8",
        "outputId": "c7e0786b-a57e-4689-b546-4c8266fbb37c"
      },
      "execution_count": 2,
      "outputs": [
        {
          "output_type": "stream",
          "name": "stdout",
          "text": [
            "AND Gate Predictions:\n",
            "[0 0 0 1]\n"
          ]
        }
      ]
    },
    {
      "cell_type": "code",
      "source": [
        "# Output for OR gate\n",
        "y_or = np.array([0, 1, 1, 1])\n",
        "\n",
        "# Model\n",
        "or_model = Perceptron()\n",
        "or_model.fit(X, y_or)\n",
        "\n",
        "# Prediction\n",
        "print(\"OR Gate Predictions:\")\n",
        "print(or_model.predict(X))\n"
      ],
      "metadata": {
        "colab": {
          "base_uri": "https://localhost:8080/"
        },
        "id": "7ttZYlZmDFjb",
        "outputId": "166e3899-46a7-4f47-ee6e-f75f72b43e19"
      },
      "execution_count": 3,
      "outputs": [
        {
          "output_type": "stream",
          "name": "stdout",
          "text": [
            "OR Gate Predictions:\n",
            "[0 1 1 1]\n"
          ]
        }
      ]
    }
  ]
}