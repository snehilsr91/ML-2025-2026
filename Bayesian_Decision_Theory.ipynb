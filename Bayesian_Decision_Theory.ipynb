{
  "nbformat": 4,
  "nbformat_minor": 0,
  "metadata": {
    "colab": {
      "provenance": []
    },
    "kernelspec": {
      "name": "python3",
      "display_name": "Python 3"
    },
    "language_info": {
      "name": "python"
    }
  },
  "cells": [
    {
      "cell_type": "code",
      "execution_count": 15,
      "metadata": {
        "id": "l56uzHbccUn3"
      },
      "outputs": [],
      "source": [
        "import pandas as pd\n",
        "from sklearn.model_selection import train_test_split\n",
        "from sklearn.feature_extraction.text import CountVectorizer\n",
        "from sklearn.naive_bayes import MultinomialNB\n",
        "from sklearn.metrics import accuracy_score"
      ]
    },
    {
      "cell_type": "code",
      "source": [
        "# Load the Dataset\n",
        "data= pd.read_csv(\"/email.csv\")\n",
        "print(data.head())\n",
        "\n",
        "# Standardize the column names\n",
        "data.columns= data.columns.str.strip()\n",
        "\n",
        "# Map categories safely\n",
        "data['Category']= data['Category'].str.strip().str.lower().map({'ham': 0, 'spam': 1})\n",
        "\n",
        "# Drop rows where mapping failed (NaN)\n",
        "data= data.dropna(subset=['Category', 'Message'])\n",
        "\n",
        "# Convert to integer after dropping NaNs\n",
        "data['Category']= data['Category'].astype(int)"
      ],
      "metadata": {
        "colab": {
          "base_uri": "https://localhost:8080/"
        },
        "id": "mLXH4B0Yc_pp",
        "outputId": "42d90c2d-a4ac-4230-c697-bde5881614d4"
      },
      "execution_count": 17,
      "outputs": [
        {
          "output_type": "stream",
          "name": "stdout",
          "text": [
            "  Category                                            Message\n",
            "0      ham  Go until jurong point, crazy.. Available only ...\n",
            "1      ham                      Ok lar... Joking wif u oni...\n",
            "2     spam  Free entry in 2 a wkly comp to win FA Cup fina...\n",
            "3      ham  U dun say so early hor... U c already then say...\n",
            "4      ham  Nah I don't think he goes to usf, he lives aro...\n"
          ]
        }
      ]
    },
    {
      "cell_type": "code",
      "source": [
        "# Split the Dataset\n",
        "X_train, X_test, y_train, y_test = train_test_split(\n",
        "    data['Message'], data['Category'], test_size=0.2, random_state=42\n",
        ")\n",
        "\n",
        "# Vectorize the Dataset\n",
        "vectorizer= CountVectorizer()\n",
        "X_train_counts= vectorizer.fit_transform(X_train)\n",
        "X_test_counts= vectorizer.transform(X_test)"
      ],
      "metadata": {
        "id": "9w7ClZ4VdGhD"
      },
      "execution_count": 18,
      "outputs": []
    },
    {
      "cell_type": "code",
      "source": [
        "# Train Naive Bayes model\n",
        "model = MultinomialNB(alpha=0.1)\n",
        "model.fit(X_train_counts, y_train)\n",
        "\n",
        "# Evaluate Accuracy\n",
        "y_pred = model.predict(X_test_counts)\n",
        "print(\"Accuracy:\", round(accuracy_score(y_test, y_pred), 3))"
      ],
      "metadata": {
        "colab": {
          "base_uri": "https://localhost:8080/"
        },
        "id": "VQtKJb-2dMMy",
        "outputId": "2641e481-eeb7-4add-bf73-43532be7aa91"
      },
      "execution_count": 19,
      "outputs": [
        {
          "output_type": "stream",
          "name": "stdout",
          "text": [
            "Accuracy: 0.989\n"
          ]
        }
      ]
    },
    {
      "cell_type": "code",
      "source": [
        "# Bayesian Decision with Asymmetric Costs\n",
        "cost_spam_as_legit= 3\n",
        "cost_legit_as_spam= 5"
      ],
      "metadata": {
        "id": "ZYn6ihapd1WC"
      },
      "execution_count": 20,
      "outputs": []
    },
    {
      "cell_type": "code",
      "source": [
        "# Example message\n",
        "msg= [\"Limited time deal waiting for you\"]\n",
        "msg_vec= vectorizer.transform(msg)"
      ],
      "metadata": {
        "id": "8Aliv1v8eE2c"
      },
      "execution_count": 21,
      "outputs": []
    },
    {
      "cell_type": "code",
      "source": [
        "# Original prediction\n",
        "original_class = model.predict(msg_vec)[0]\n",
        "print(\"\\nOriginal Prediction (without costs):\", \"SPAM\" if original_class==1 else \"LEGIT\")"
      ],
      "metadata": {
        "colab": {
          "base_uri": "https://localhost:8080/"
        },
        "id": "b8uam8X_dQw0",
        "outputId": "9b1a4c80-03ca-4f30-f0b7-7746a61fa4f7"
      },
      "execution_count": 22,
      "outputs": [
        {
          "output_type": "stream",
          "name": "stdout",
          "text": [
            "\n",
            "Original Prediction (without costs): LEGIT\n"
          ]
        }
      ]
    },
    {
      "cell_type": "code",
      "source": [
        "# Posterior probabilities\n",
        "probs = model.predict_proba(msg_vec)[0]\n",
        "P_legit_given_msg= probs[0]\n",
        "P_spam_given_msg= probs[1]"
      ],
      "metadata": {
        "id": "tFhGeXIkgWuu"
      },
      "execution_count": 23,
      "outputs": []
    },
    {
      "cell_type": "code",
      "source": [
        "# Expected risks\n",
        "risk_spam= cost_legit_as_spam*P_legit_given_msg\n",
        "risk_legit= cost_spam_as_legit*P_spam_given_msg\n",
        "\n",
        "print(\"\\nP(Spam | message):\", round(P_spam_given_msg,3))\n",
        "print(\"P(Legit | message):\", round(P_legit_given_msg,3))\n",
        "print(\"Risk if classify as SPAM:\", round(risk_spam,3))\n",
        "print(\"Risk if classify as LEGIT:\", round(risk_legit,3))"
      ],
      "metadata": {
        "colab": {
          "base_uri": "https://localhost:8080/"
        },
        "id": "ISjSYL9MgZJI",
        "outputId": "0d12bd87-9271-49b5-82ea-abb5e4cdd3b5"
      },
      "execution_count": 24,
      "outputs": [
        {
          "output_type": "stream",
          "name": "stdout",
          "text": [
            "\n",
            "P(Spam | message): 0.001\n",
            "P(Legit | message): 0.999\n",
            "Risk if classify as SPAM: 4.996\n",
            "Risk if classify as LEGIT: 0.002\n"
          ]
        }
      ]
    },
    {
      "cell_type": "code",
      "source": [
        "# Final decision\n",
        "decision = \"SPAM\" if risk_spam < risk_legit else \"LEGIT\"\n",
        "print(\"\\nDecision (Bayesian with cost):\", decision)"
      ],
      "metadata": {
        "colab": {
          "base_uri": "https://localhost:8080/"
        },
        "id": "lOls3piTgc2u",
        "outputId": "6432ba7b-da37-4e33-f9f2-dddf8bd72282"
      },
      "execution_count": 25,
      "outputs": [
        {
          "output_type": "stream",
          "name": "stdout",
          "text": [
            "\n",
            "Decision (Bayesian with cost): LEGIT\n"
          ]
        }
      ]
    },
    {
      "cell_type": "code",
      "source": [],
      "metadata": {
        "id": "IUjctcH6hBLo"
      },
      "execution_count": null,
      "outputs": []
    }
  ]
}